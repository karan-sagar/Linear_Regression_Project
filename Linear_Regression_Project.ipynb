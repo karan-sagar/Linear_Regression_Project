{
  "nbformat": 4,
  "nbformat_minor": 0,
  "metadata": {
    "colab": {
      "name": "Linear_Regression _Project.ipynb",
      "provenance": [],
      "collapsed_sections": []
    },
    "kernelspec": {
      "name": "python3",
      "display_name": "Python 3"
    },
    "language_info": {
      "name": "python"
    }
  },
  "cells": [
    {
      "cell_type": "code",
      "metadata": {
        "id": "852w-ITFHuEi"
      },
      "source": [
        "import pandas as pd \n",
        "import numpy as np \n",
        "import seaborn as sns \n",
        "import matplotlib.pyplot as plt\n"
      ],
      "execution_count": 1,
      "outputs": []
    },
    {
      "cell_type": "code",
      "metadata": {
        "id": "UDWq3145H0NI"
      },
      "source": [
        "data = pd.read_csv(\"car data.csv\") # read the data as a csv file "
      ],
      "execution_count": 2,
      "outputs": []
    },
    {
      "cell_type": "code",
      "metadata": {
        "colab": {
          "base_uri": "https://localhost:8080/",
          "height": 204
        },
        "id": "8An-cMbRH6X6",
        "outputId": "93ddfac6-db5e-4e82-80a7-f333cb1a174c"
      },
      "source": [
        "data.head(5) # first 5 rows \n"
      ],
      "execution_count": 3,
      "outputs": [
        {
          "output_type": "execute_result",
          "data": {
            "text/html": [
              "<div>\n",
              "<style scoped>\n",
              "    .dataframe tbody tr th:only-of-type {\n",
              "        vertical-align: middle;\n",
              "    }\n",
              "\n",
              "    .dataframe tbody tr th {\n",
              "        vertical-align: top;\n",
              "    }\n",
              "\n",
              "    .dataframe thead th {\n",
              "        text-align: right;\n",
              "    }\n",
              "</style>\n",
              "<table border=\"1\" class=\"dataframe\">\n",
              "  <thead>\n",
              "    <tr style=\"text-align: right;\">\n",
              "      <th></th>\n",
              "      <th>Car_Name</th>\n",
              "      <th>Year</th>\n",
              "      <th>Selling_Price</th>\n",
              "      <th>Present_Price</th>\n",
              "      <th>Kms_Driven</th>\n",
              "      <th>Fuel_Type</th>\n",
              "      <th>Seller_Type</th>\n",
              "      <th>Transmission</th>\n",
              "      <th>Owner</th>\n",
              "    </tr>\n",
              "  </thead>\n",
              "  <tbody>\n",
              "    <tr>\n",
              "      <th>0</th>\n",
              "      <td>ritz</td>\n",
              "      <td>2014</td>\n",
              "      <td>3.35</td>\n",
              "      <td>5.59</td>\n",
              "      <td>27000</td>\n",
              "      <td>Petrol</td>\n",
              "      <td>Dealer</td>\n",
              "      <td>Manual</td>\n",
              "      <td>0</td>\n",
              "    </tr>\n",
              "    <tr>\n",
              "      <th>1</th>\n",
              "      <td>sx4</td>\n",
              "      <td>2013</td>\n",
              "      <td>4.75</td>\n",
              "      <td>9.54</td>\n",
              "      <td>43000</td>\n",
              "      <td>Diesel</td>\n",
              "      <td>Dealer</td>\n",
              "      <td>Manual</td>\n",
              "      <td>0</td>\n",
              "    </tr>\n",
              "    <tr>\n",
              "      <th>2</th>\n",
              "      <td>ciaz</td>\n",
              "      <td>2017</td>\n",
              "      <td>7.25</td>\n",
              "      <td>9.85</td>\n",
              "      <td>6900</td>\n",
              "      <td>Petrol</td>\n",
              "      <td>Dealer</td>\n",
              "      <td>Manual</td>\n",
              "      <td>0</td>\n",
              "    </tr>\n",
              "    <tr>\n",
              "      <th>3</th>\n",
              "      <td>wagon r</td>\n",
              "      <td>2011</td>\n",
              "      <td>2.85</td>\n",
              "      <td>4.15</td>\n",
              "      <td>5200</td>\n",
              "      <td>Petrol</td>\n",
              "      <td>Dealer</td>\n",
              "      <td>Manual</td>\n",
              "      <td>0</td>\n",
              "    </tr>\n",
              "    <tr>\n",
              "      <th>4</th>\n",
              "      <td>swift</td>\n",
              "      <td>2014</td>\n",
              "      <td>4.60</td>\n",
              "      <td>6.87</td>\n",
              "      <td>42450</td>\n",
              "      <td>Diesel</td>\n",
              "      <td>Dealer</td>\n",
              "      <td>Manual</td>\n",
              "      <td>0</td>\n",
              "    </tr>\n",
              "  </tbody>\n",
              "</table>\n",
              "</div>"
            ],
            "text/plain": [
              "  Car_Name  Year  Selling_Price  ...  Seller_Type  Transmission Owner\n",
              "0     ritz  2014           3.35  ...       Dealer        Manual     0\n",
              "1      sx4  2013           4.75  ...       Dealer        Manual     0\n",
              "2     ciaz  2017           7.25  ...       Dealer        Manual     0\n",
              "3  wagon r  2011           2.85  ...       Dealer        Manual     0\n",
              "4    swift  2014           4.60  ...       Dealer        Manual     0\n",
              "\n",
              "[5 rows x 9 columns]"
            ]
          },
          "metadata": {},
          "execution_count": 3
        }
      ]
    },
    {
      "cell_type": "code",
      "metadata": {
        "colab": {
          "base_uri": "https://localhost:8080/"
        },
        "id": "KPxHPTK0H79D",
        "outputId": "1e317005-477a-47e7-c7e4-3c1eec546b5c"
      },
      "source": [
        "data.isnull().any() # we have no missing values \n",
        "data.isnull().sum() # in the event in which we did have missing values, this would tell us how many "
      ],
      "execution_count": 4,
      "outputs": [
        {
          "output_type": "execute_result",
          "data": {
            "text/plain": [
              "Car_Name         0\n",
              "Year             0\n",
              "Selling_Price    0\n",
              "Present_Price    0\n",
              "Kms_Driven       0\n",
              "Fuel_Type        0\n",
              "Seller_Type      0\n",
              "Transmission     0\n",
              "Owner            0\n",
              "dtype: int64"
            ]
          },
          "metadata": {},
          "execution_count": 4
        }
      ]
    },
    {
      "cell_type": "code",
      "metadata": {
        "colab": {
          "base_uri": "https://localhost:8080/",
          "height": 297
        },
        "id": "riFLtjTSJEVE",
        "outputId": "8b9beed5-9357-4892-d4c4-d512d06b69cb"
      },
      "source": [
        "data.describe() # get summary statistics of each column in the dataset "
      ],
      "execution_count": 133,
      "outputs": [
        {
          "output_type": "execute_result",
          "data": {
            "text/html": [
              "<div>\n",
              "<style scoped>\n",
              "    .dataframe tbody tr th:only-of-type {\n",
              "        vertical-align: middle;\n",
              "    }\n",
              "\n",
              "    .dataframe tbody tr th {\n",
              "        vertical-align: top;\n",
              "    }\n",
              "\n",
              "    .dataframe thead th {\n",
              "        text-align: right;\n",
              "    }\n",
              "</style>\n",
              "<table border=\"1\" class=\"dataframe\">\n",
              "  <thead>\n",
              "    <tr style=\"text-align: right;\">\n",
              "      <th></th>\n",
              "      <th>Year</th>\n",
              "      <th>Selling_Price</th>\n",
              "      <th>Present_Price</th>\n",
              "      <th>Kms_Driven</th>\n",
              "      <th>Owner</th>\n",
              "      <th>log_value</th>\n",
              "    </tr>\n",
              "  </thead>\n",
              "  <tbody>\n",
              "    <tr>\n",
              "      <th>count</th>\n",
              "      <td>301.000000</td>\n",
              "      <td>301.000000</td>\n",
              "      <td>301.000000</td>\n",
              "      <td>301.000000</td>\n",
              "      <td>301.000000</td>\n",
              "      <td>301.000000</td>\n",
              "    </tr>\n",
              "    <tr>\n",
              "      <th>mean</th>\n",
              "      <td>2013.627907</td>\n",
              "      <td>4.661296</td>\n",
              "      <td>7.628472</td>\n",
              "      <td>36947.205980</td>\n",
              "      <td>0.043189</td>\n",
              "      <td>0.911358</td>\n",
              "    </tr>\n",
              "    <tr>\n",
              "      <th>std</th>\n",
              "      <td>2.891554</td>\n",
              "      <td>5.082812</td>\n",
              "      <td>8.644115</td>\n",
              "      <td>38886.883882</td>\n",
              "      <td>0.247915</td>\n",
              "      <td>1.271646</td>\n",
              "    </tr>\n",
              "    <tr>\n",
              "      <th>min</th>\n",
              "      <td>2003.000000</td>\n",
              "      <td>0.100000</td>\n",
              "      <td>0.320000</td>\n",
              "      <td>500.000000</td>\n",
              "      <td>0.000000</td>\n",
              "      <td>-2.302585</td>\n",
              "    </tr>\n",
              "    <tr>\n",
              "      <th>25%</th>\n",
              "      <td>2012.000000</td>\n",
              "      <td>0.900000</td>\n",
              "      <td>1.200000</td>\n",
              "      <td>15000.000000</td>\n",
              "      <td>0.000000</td>\n",
              "      <td>-0.105361</td>\n",
              "    </tr>\n",
              "    <tr>\n",
              "      <th>50%</th>\n",
              "      <td>2014.000000</td>\n",
              "      <td>3.600000</td>\n",
              "      <td>6.400000</td>\n",
              "      <td>32000.000000</td>\n",
              "      <td>0.000000</td>\n",
              "      <td>1.280934</td>\n",
              "    </tr>\n",
              "    <tr>\n",
              "      <th>75%</th>\n",
              "      <td>2016.000000</td>\n",
              "      <td>6.000000</td>\n",
              "      <td>9.900000</td>\n",
              "      <td>48767.000000</td>\n",
              "      <td>0.000000</td>\n",
              "      <td>1.791759</td>\n",
              "    </tr>\n",
              "    <tr>\n",
              "      <th>max</th>\n",
              "      <td>2018.000000</td>\n",
              "      <td>35.000000</td>\n",
              "      <td>92.600000</td>\n",
              "      <td>500000.000000</td>\n",
              "      <td>3.000000</td>\n",
              "      <td>3.555348</td>\n",
              "    </tr>\n",
              "  </tbody>\n",
              "</table>\n",
              "</div>"
            ],
            "text/plain": [
              "              Year  Selling_Price  ...       Owner   log_value\n",
              "count   301.000000     301.000000  ...  301.000000  301.000000\n",
              "mean   2013.627907       4.661296  ...    0.043189    0.911358\n",
              "std       2.891554       5.082812  ...    0.247915    1.271646\n",
              "min    2003.000000       0.100000  ...    0.000000   -2.302585\n",
              "25%    2012.000000       0.900000  ...    0.000000   -0.105361\n",
              "50%    2014.000000       3.600000  ...    0.000000    1.280934\n",
              "75%    2016.000000       6.000000  ...    0.000000    1.791759\n",
              "max    2018.000000      35.000000  ...    3.000000    3.555348\n",
              "\n",
              "[8 rows x 6 columns]"
            ]
          },
          "metadata": {},
          "execution_count": 133
        }
      ]
    },
    {
      "cell_type": "code",
      "metadata": {
        "colab": {
          "base_uri": "https://localhost:8080/",
          "height": 460
        },
        "id": "YxqiCNm3KcSs",
        "outputId": "1f28ceba-3cd1-49de-9ed1-4b9554ec7093"
      },
      "source": [
        "fig, axs = plt.subplots(2, 2, figsize=(7, 7))\n",
        "\n",
        "sns.histplot(data[\"Selling_Price\"], color = \"skyblue\", ax=axs[0, 0])\n",
        "sns.histplot(data[\"Year\"], color = \"teal\", ax=axs[0, 1])\n",
        "sns.histplot(data[\"Kms_Driven\"], color = \"olive\", ax=axs[1, 0])\n",
        "sns.histplot(data[\"Present_Price\"], color = \"gold\", ax=axs[1, 1])\n",
        "\n",
        "# we see here that the selling price is not normally distributed. If we were to do linear regression, one of the most important assumption is that the independant variable be normally distributed. \n"
      ],
      "execution_count": 6,
      "outputs": [
        {
          "output_type": "execute_result",
          "data": {
            "text/plain": [
              "<matplotlib.axes._subplots.AxesSubplot at 0x7fbd6b2c1090>"
            ]
          },
          "metadata": {},
          "execution_count": 6
        },
        {
          "output_type": "display_data",
          "data": {
            "image/png": "[encoded data removed]",
            "text/plain": [
              "<Figure size 504x504 with 4 Axes>"
            ]
          },
          "metadata": {
            "needs_background": "light"
          }
        }
      ]
    },
    {
      "cell_type": "code",
      "metadata": {
        "colab": {
          "base_uri": "https://localhost:8080/",
          "height": 548
        },
        "id": "KIj3ePtzLpsC",
        "outputId": "36ad84d2-9588-4e0b-8990-36bd93de65c1"
      },
      "source": [
        "data['log_value'] = np.log(data['Selling_Price'])\n",
        "\n",
        "selling_price = data[\"Selling_Price\"]\n",
        "log_value = data['log_value']\n",
        "\n",
        "\n",
        "fig, axs = plt.subplots(2, 1, figsize=(7, 7))\n",
        "\n",
        "sns.boxplot(data[\"Selling_Price\"], color = \"skyblue\", ax=axs[0])\n",
        "sns.boxplot(data[\"log_value\"], color = \"teal\", ax=axs[1])\n"
      ],
      "execution_count": 132,
      "outputs": [
        {
          "output_type": "stream",
          "text": [
            "/usr/local/lib/python3.7/dist-packages/seaborn/_decorators.py:43: FutureWarning: Pass the following variable as a keyword arg: x. From version 0.12, the only valid positional argument will be `data`, and passing other arguments without an explicit keyword will result in an error or misinterpretation.\n",
            "  FutureWarning\n",
            "/usr/local/lib/python3.7/dist-packages/seaborn/_decorators.py:43: FutureWarning: Pass the following variable as a keyword arg: x. From version 0.12, the only valid positional argument will be `data`, and passing other arguments without an explicit keyword will result in an error or misinterpretation.\n",
            "  FutureWarning\n"
          ],
          "name": "stderr"
        },
        {
          "output_type": "execute_result",
          "data": {
            "text/plain": [
              "<matplotlib.axes._subplots.AxesSubplot at 0x7fbd478cf110>"
            ]
          },
          "metadata": {},
          "execution_count": 132
        },
        {
          "output_type": "display_data",
          "data": {
            "image/png": "[encoded data removed]",
            "text/plain": [
              "<Figure size 504x504 with 2 Axes>"
            ]
          },
          "metadata": {
            "needs_background": "light"
          }
        }
      ]
    },
    {
      "cell_type": "code",
      "metadata": {
        "colab": {
          "base_uri": "https://localhost:8080/",
          "height": 279
        },
        "id": "hKpWa4bIPl4G",
        "outputId": "7053cba1-3777-4490-b400-f9c5c141b0d1"
      },
      "source": [
        "import statsmodels.api as sm\n",
        "from scipy.stats import norm\n",
        "import pylab\n",
        "\n",
        "sm.qqplot(log_value, line='45')\n",
        "pylab.show()\n",
        "\n",
        "data_observations = data.drop(['Selling_Price', 'log_value'], axis = 1)\n",
        "data_target = data[\"log_value\"]\n",
        "\n",
        "\n"
      ],
      "execution_count": 115,
      "outputs": [
        {
          "output_type": "display_data",
          "data": {
            "image/png": "[encoded data removed]",
            "text/plain": [
              "<Figure size 432x288 with 1 Axes>"
            ]
          },
          "metadata": {
            "needs_background": "light"
          }
        }
      ]
    },
    {
      "cell_type": "code",
      "metadata": {
        "id": "uVgySVGYzTrF"
      },
      "source": [
        "sns.pairplot(data) # it seems that the owner covariate may not be very useful. Therefore let's perform model variable selection next. "
      ],
      "execution_count": null,
      "outputs": []
    },
    {
      "cell_type": "code",
      "metadata": {
        "id": "OA-V4YwgzOGb"
      },
      "source": [
        "select = SelectPercentile(percentile=50) \n",
        "select.fit(X_train, y_train)\n",
        "# transform training set\n",
        "X_train_selected = select.transform(X_train)\n",
        "print(\"X_train.shape: {}\".format(X_train.shape)) \n",
        "print(\"X_train_selected.shape: {}\".format(X_train_selected.shape))\n"
      ],
      "execution_count": null,
      "outputs": []
    },
    {
      "cell_type": "code",
      "metadata": {
        "id": "QxLxZNMaXafi"
      },
      "source": [
        "X = ['Car_Name',\t'Fuel_Type',\t'Seller_Type',\t'Transmission',\t'Owner']"
      ],
      "execution_count": 21,
      "outputs": []
    },
    {
      "cell_type": "code",
      "metadata": {
        "id": "JWjCsT9qYKjX"
      },
      "source": [
        "data_new = pd.get_dummies(data_observations, columns= X) #convert categorical variables to dummy variables. \n"
      ],
      "execution_count": 36,
      "outputs": []
    },
    {
      "cell_type": "code",
      "metadata": {
        "colab": {
          "base_uri": "https://localhost:8080/"
        },
        "id": "xdmDkA1odO2f",
        "outputId": "ff740e4e-2fa4-4e8c-e950-deee49743c2b"
      },
      "source": [
        "from sklearn.linear_model import LinearRegression\n",
        "from sklearn.model_selection import train_test_split\n",
        "from sklearn.feature_selection import SelectPercentile\n",
        "\n",
        "X_train, X_test, y_train, y_test = train_test_split(data_new, data_target, random_state=0)\n",
        "lr = LinearRegression().fit(X_train, y_train)\n",
        "\n",
        "\n",
        "select = SelectPercentile(percentile=50) \n",
        "select.fit(X_train, y_train)\n",
        "# transform training set\n",
        "X_train_selected = select.transform(X_train)\n",
        "print(\"X_train.shape: {}\".format(X_train.shape)) \n",
        "print(\"X_train_selected.shape: {}\".format(X_train_selected.shape))\n"
      ],
      "execution_count": 162,
      "outputs": [
        {
          "output_type": "stream",
          "text": [
            "X_train.shape: (225, 111)\n",
            "X_train_selected.shape: (225, 55)\n"
          ],
          "name": "stdout"
        },
        {
          "output_type": "stream",
          "text": [
            "/usr/local/lib/python3.7/dist-packages/sklearn/feature_selection/_univariate_selection.py:114: UserWarning: Features [ 5  6 12 14 15 18 25 36 38 41 42 43 48 59 73 77 82 88 91 94 98] are constant.\n",
            "  UserWarning)\n",
            "/usr/local/lib/python3.7/dist-packages/sklearn/feature_selection/_univariate_selection.py:115: RuntimeWarning: divide by zero encountered in true_divide\n",
            "  f = msb / msw\n",
            "/usr/local/lib/python3.7/dist-packages/sklearn/feature_selection/_univariate_selection.py:115: RuntimeWarning: invalid value encountered in true_divide\n",
            "  f = msb / msw\n"
          ],
          "name": "stderr"
        }
      ]
    },
    {
      "cell_type": "code",
      "metadata": {
        "colab": {
          "base_uri": "https://localhost:8080/"
        },
        "id": "CgUPYgOD1fJ2",
        "outputId": "89012c9a-b736-40b8-a0f1-a3bcd93998c1"
      },
      "source": [
        "# Before Variable Selection \n",
        "\n",
        "print(\"Training set score: {:.2f}\".format(lr.score(X_train, y_train))) \n",
        "print(\"Test set score: {:.2f}\".format(lr.score(X_test, y_test)))\n",
        "\n",
        "#After Variable Selection \n",
        "lr.fit(X_train_selected, y_train)\n",
        "\n",
        "X_test_selected = select.transform(X_test)\n",
        "\n",
        "\n",
        "print(\"Training set score: {:.2f}\".format(lr.score(X_train_selected, y_train))) \n",
        "print(\"Test set score: {:.2f}\".format(lr.score(X_test_selected, y_test)))\n",
        "\n",
        "\n",
        "\n",
        "\n"
      ],
      "execution_count": 163,
      "outputs": [
        {
          "output_type": "stream",
          "text": [
            "Training set score: 0.96\n",
            "Test set score: 0.92\n"
          ],
          "name": "stdout"
        }
      ]
    },
    {
      "cell_type": "code",
      "metadata": {
        "id": "4vE2kSgU02UY"
      },
      "source": [
        "# Check diagnostic plots to see if regression assumptions are satisfied\n"
      ],
      "execution_count": 164,
      "outputs": []
    },
    {
      "cell_type": "code",
      "metadata": {
        "id": "w-3CRc_24NKr"
      },
      "source": [
        ""
      ],
      "execution_count": null,
      "outputs": []
    }
  ]
}